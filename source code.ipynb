{
 "cells": [
  {
   "cell_type": "code",
   "execution_count": 64,
   "id": "5e7a9620",
   "metadata": {},
   "outputs": [],
   "source": [
    "import numpy as np\n",
    "class GQA:\n",
    "    def __init__(self, d_model, num_heads, num_groups, seed=0):\n",
    "        assert num_heads % num_groups == 0\n",
    "        self.d_model = d_model\n",
    "        self.h = num_heads\n",
    "        self.g = num_groups\n",
    "        self.d_k = d_model // num_heads\n",
    "        # Projections\n",
    "        self.W_Q = np.random.randn(d_model, self.h * self.d_k) / np.sqrt(d_model)\n",
    "        self.W_K = np.random.randn(d_model, self.g * self.d_k) / np.sqrt(d_model)\n",
    "        self.W_V = np.random.randn(d_model, self.g * self.d_k) / np.sqrt(d_model)\n",
    "\n",
    "        # output projection\n",
    "        self.W_O = np.random.randn(self.h * self.d_k, d_model) / np.sqrt(self.h * self.d_k)\n",
    "\n",
    "        # mapping head\n",
    "        self.group_size = self.h // self.g\n",
    "        self.head2group = (np.arange(self.h) // self.group_size).astype(int)\n",
    "    \n",
    "    def softmax(self, x, axis= -1):\n",
    "        # ổn định số học: trừ đi max để tránh overflow\n",
    "        x_max = np.max(x, axis=axis, keepdims=True)\n",
    "        e_x = np.exp(x - x_max)\n",
    "        return e_x / np.sum(e_x, axis=axis, keepdims=True)\n",
    "    def forward(self, x):\n",
    "        # x: (batch_size, seq_len, d_model)\n",
    "        batch, seq_len, _ = x.shape\n",
    "        # Linear projections\n",
    "        Q = x @ self.W_Q\n",
    "        K = x @ self.W_K\n",
    "        V = x @ self.W_V\n",
    "\n",
    "        # reshape thành (batch, h, seq_len, d_k) và \n",
    "        # (batch, g, seq_len, d_k)\n",
    "        Q = Q.reshape(batch, seq_len, self.h, self.d_k).transpose(0, 2, 1, 3)\n",
    "        K = K.reshape(batch, seq_len, self.g, self.d_k).transpose(0, 2, 1, 3)\n",
    "        V = V.reshape(batch, seq_len, self.g, self.d_k).transpose(0, 2, 1, 3)\n",
    "\n",
    "        # Attention cho từng head -> ánh xạ sang group\n",
    "        outputs = []\n",
    "        for i in range(self.h):\n",
    "            g = self.head2group[i]\n",
    "\n",
    "            Qi = Q[:, i, :, :] #(batch, seq_len, d_k)\n",
    "            Ki = K[:, g, :, :] #(batch, seq_len, d_k)\n",
    "            Vi = V[:, g, :, :] #(batch, seq_len, d_k)\n",
    "            \n",
    "            #attention score: (batch, seq_len, seq_len)\n",
    "            scores = Qi @ Ki.transpose(0, 2, 1) / np.sqrt(self.d_k)\n",
    "            weights = self.softmax(scores, axis=-1)\n",
    "\n",
    "            # output head i: (batch, seq_len, d_k)\n",
    "            Oi = weights @ Vi\n",
    "            outputs.append(Oi)\n",
    "        \n",
    "        # Nối tất cả các heads lại\n",
    "        O = np.concatenate(outputs, axis=-1)\n",
    "\n",
    "        # Output projection\n",
    "        O = O @ self.W_O\n",
    "        return O\n",
    "            "
   ]
  },
  {
   "cell_type": "code",
   "execution_count": 65,
   "id": "d17b0cdf",
   "metadata": {},
   "outputs": [
    {
     "name": "stdout",
     "output_type": "stream",
     "text": [
      "[[ 0.23940519  1.66111856 -0.20356129  1.27058707 -2.94029029  0.8777846\n",
      "  -0.12489429  1.92314266]\n",
      " [-0.4456467   0.48224981  0.47329157 -0.39512664  2.10103225 -0.28560011\n",
      "  -0.82652432 -0.87472136]\n",
      " [ 0.24301883 -0.07056784  0.62040455  0.92186213  1.77013652  1.36108775\n",
      "  -0.12992348 -0.51241304]\n",
      " [-0.34504311  0.01465683  0.31928923 -0.74526591  1.02999523  0.37366542\n",
      "   0.22558793 -0.72086229]\n",
      " [ 0.75736167  0.16427002  0.29324152  0.62370667  0.93508755  0.47297128\n",
      "   0.18201437 -0.52452746]\n",
      " [-0.08815476  1.02038747  0.35872427 -0.26066375  0.74813042  1.63799562\n",
      "   1.81351774 -0.77223045]\n",
      " [ 0.02916833 -0.7436708   0.3835143  -0.40728074  0.08124833 -0.9151844\n",
      "   2.81192096  0.85253405]\n",
      " [-0.17408235 -1.38722378  0.11477672 -1.52247573  0.76825095 -1.29077737\n",
      "  -0.25602256 -1.54170593]]\n",
      "--------------------------\n",
      "[[-0.46401799  0.62588077 -0.01227908 -1.2687157 ]\n",
      " [-1.15596893  1.32099733 -2.94466544  2.30214876]\n",
      " [-0.5502698  -0.7877159  -1.64055857 -0.14470979]\n",
      " [ 1.08922568  1.33782753 -0.86989006  1.85595918]\n",
      " [-0.14621387  0.56386994  1.69075163  1.37868931]\n",
      " [ 0.50135363  0.2872499  -0.43286651  0.29081107]\n",
      " [-0.58618391 -0.44373566 -1.88728704 -0.35292527]\n",
      " [-0.12462984 -1.97946904  1.86040562 -0.64047687]]\n",
      "------------------------------\n",
      "[[ 1.39732969 -1.25294366 -1.2745968   0.13782794]\n",
      " [-0.9520448  -0.27877597 -0.85720259 -1.17718923]\n",
      " [ 0.57122929 -1.50944956  0.57553217  0.68110725]\n",
      " [-0.32204419  0.24142466  0.20693094 -0.75718675]\n",
      " [ 0.27467681 -1.48428851  0.44692599  0.21664135]\n",
      " [-0.25012924 -0.17676695 -0.84559173 -1.32345986]\n",
      " [-0.76173249 -0.39258434  0.67856764  1.14260825]\n",
      " [ 0.17560663  0.11744498  2.63354466  0.49502497]]\n"
     ]
    }
   ],
   "source": [
    "d_model = 8\n",
    "num_heads = 4\n",
    "d_k = d_model // num_heads\n",
    "h = num_heads\n",
    "g = 2\n",
    "W_Q = np.random.randn(d_model, d_model)\n",
    "print(W_Q)\n",
    "print(f\"--------------------------\")\n",
    "W_K = np.random.randn(d_model, g * d_k)\n",
    "print(W_K)\n",
    "print(f\"------------------------------\")\n",
    "W_V = np.random.randn(d_model, g * d_k)\n",
    "print(W_V)"
   ]
  },
  {
   "cell_type": "code",
   "execution_count": 66,
   "id": "219f37d1",
   "metadata": {},
   "outputs": [
    {
     "name": "stdout",
     "output_type": "stream",
     "text": [
      "Chia 4 heads thành 2 nhóm\n",
      "Group tương ứng của của các head:\n",
      "[0, 0, 1, 1]\n",
      "group của head 0 là: 0\n",
      "group của head 1 là: 0\n",
      "group của head 2 là: 1\n",
      "group của head 3 là: 1\n"
     ]
    }
   ],
   "source": [
    "group_size = h//g\n",
    "print(f\"Chia {h} heads thành {group_size} nhóm\")\n",
    "head2group = [0] * num_heads\n",
    "for i in range(num_heads):\n",
    "    head2group[i] = i // group_size\n",
    "print(f\"Group tương ứng của của các head:\\n{head2group}\")\n",
    "for i in range(num_heads):\n",
    "    print(f\"group của head {i} là: {head2group[i]}\")"
   ]
  },
  {
   "cell_type": "code",
   "execution_count": 67,
   "id": "2e55d0e0",
   "metadata": {},
   "outputs": [
    {
     "name": "stdout",
     "output_type": "stream",
     "text": [
      "Đầu vào x:\n",
      "[[[-0.2503341  -0.55224965 -0.82941883 -0.32478957 -1.03477907\n",
      "   -0.10103258  0.67859904 -0.69633028]\n",
      "  [ 1.93484307 -1.29960365 -0.82017787 -1.43283317 -0.48123886\n",
      "    1.03548408  0.66645496 -1.00530665]\n",
      "  [-0.2583375   0.04666427  0.03574593  0.16737548 -2.04831901\n",
      "   -0.60374309  2.70460309 -0.32030509]]\n",
      "\n",
      " [[ 0.91575715  3.14560031 -0.59519807  1.14812669 -0.43936931\n",
      "   -1.31838479  1.40468864 -0.05228306]\n",
      "  [ 0.34348862 -0.48894452 -0.76577516  0.35691139 -1.243329\n",
      "   -0.40908092  0.83570525  0.79832422]\n",
      "  [ 0.07816402 -1.10923177  1.44630279  0.2716136  -0.3219902\n",
      "   -0.62180459  1.38932533 -1.07228156]]]\n"
     ]
    }
   ],
   "source": [
    "# Giả sử đầu vào x có 2 mẫu, mỗi mẫu có 3 từ \n",
    "# và d_model = d_model = 8\n",
    "batch = 2\n",
    "seq_len = 3\n",
    "x = np.random.randn(batch, seq_len, d_model)\n",
    "print(f\"Đầu vào x:\\n{x}\")"
   ]
  },
  {
   "cell_type": "code",
   "execution_count": 68,
   "id": "24012e08",
   "metadata": {},
   "outputs": [
    {
     "name": "stdout",
     "output_type": "stream",
     "text": [
      "Ma trận Query ban đầu:\n",
      "[[[ -0.53710413  -0.44015092  -0.98804689  -0.45771538  -3.7499716\n",
      "    -1.68943888   2.23707953   2.93362574]\n",
      "  [  1.07613691   4.50065157  -1.60473761   3.97270105 -11.74065036\n",
      "     2.57401224   4.53750988   7.88176897]\n",
      "  [ -1.49515518  -2.9262235    0.33355236  -2.17251732  -1.30006489\n",
      "    -4.14838882   6.24622252   3.6636014 ]]\n",
      "\n",
      " [[ -1.88985252   0.70743996   1.23063365  -1.90659692   2.72218856\n",
      "    -4.06102874  -0.88558092   1.01366204]\n",
      "  [ -1.02930346  -1.95655445  -0.76167573  -2.56694174  -3.81260838\n",
      "    -3.52118503   1.7186007    1.673128  ]\n",
      "  [  0.80894037  -0.73624972   0.5353908    2.69640032  -1.19762344\n",
      "     1.39722812   3.77534962   3.67034801]]]\n",
      "---------------------------\n",
      "Chiều của Q (batch, seq_len, d_model):\n",
      "(2, 3, 8)\n"
     ]
    }
   ],
   "source": [
    "# Ma trận Q, K, V\n",
    "Q = x @ W_Q\n",
    "print(f\"Ma trận Query ban đầu:\\n{Q}\")\n",
    "print(f\"---------------------------\")\n",
    "print(f\"Chiều của Q (batch, seq_len, d_model):\\n{Q.shape}\")"
   ]
  },
  {
   "cell_type": "code",
   "execution_count": 69,
   "id": "fa1a44de",
   "metadata": {},
   "outputs": [
    {
     "name": "stdout",
     "output_type": "stream",
     "text": [
      "Ma trận Key ban đầu:\n",
      "[[[  0.64682365  -0.2026224   -1.00948304  -2.68606074]\n",
      "  [ -0.1807266   -0.05627826   2.0051453   -7.94092059]\n",
      "  [ -1.32010081  -1.79878869  -9.24059834  -3.00829126]]\n",
      "\n",
      " [[ -3.89668036   5.58705609 -12.21677      6.84539295]\n",
      "  [  0.60328553  -2.11988693   0.36429373  -3.42756367]\n",
      "  [ -0.19946673  -1.04639334  -4.23584313  -2.78628345]]]\n",
      "--------------------------\n",
      "Chiều của K (batch, seq_len, num_groups * d_k):\n",
      "(2, 3, 4)\n"
     ]
    }
   ],
   "source": [
    "K = x @ W_K\n",
    "print(f\"Ma trận Key ban đầu:\\n{K}\")\n",
    "print(f\"--------------------------\")\n",
    "print(f\"Chiều của K (batch, seq_len, num_groups * d_k):\\n{K.shape}\")\n"
   ]
  },
  {
   "cell_type": "code",
   "execution_count": 70,
   "id": "2b3c9f47",
   "metadata": {},
   "outputs": [
    {
     "name": "stdout",
     "output_type": "stream",
     "text": [
      "Ma trận Value ban đầu:\n",
      "[[[-1.09137438  2.84674419 -1.50248026  0.63681109]\n",
      "  [ 2.85843161 -1.01830528 -5.40661755  1.11201523]\n",
      "  [-2.966936    2.34474049  0.93127504  3.09409543]]\n",
      "\n",
      " [[-3.29497606 -0.52110381 -2.23467439 -1.62271873]\n",
      "  [-0.34249387  2.63144559  2.07418722  1.4532188 ]\n",
      "  [ 0.72445245 -1.98977546  0.24054463  3.90579942]]]\n",
      "-----------------------\n",
      "Chiều của V (batch, seq_len, num_groups * d_k):\n",
      "(2, 3, 4)\n"
     ]
    }
   ],
   "source": [
    "V = x @ W_V\n",
    "print(f\"Ma trận Value ban đầu:\\n{V}\")\n",
    "print(f\"-----------------------\")\n",
    "print(f\"Chiều của V (batch, seq_len, num_groups * d_k):\\n{V.shape}\")"
   ]
  },
  {
   "cell_type": "code",
   "execution_count": 71,
   "id": "b54af164",
   "metadata": {},
   "outputs": [
    {
     "name": "stdout",
     "output_type": "stream",
     "text": [
      "Ma trận Q:\n",
      "(2, 3, 4, 2)\n",
      "Có 2 câu, mỗi câu có 3 từ, mỗi từ có 4 head,\n",
      "mỗi head có 2 chiều\n",
      "Câu 0:\n",
      "[[[ -0.53710413  -0.44015092]\n",
      "  [ -0.98804689  -0.45771538]\n",
      "  [ -3.7499716   -1.68943888]\n",
      "  [  2.23707953   2.93362574]]\n",
      "\n",
      " [[  1.07613691   4.50065157]\n",
      "  [ -1.60473761   3.97270105]\n",
      "  [-11.74065036   2.57401224]\n",
      "  [  4.53750988   7.88176897]]\n",
      "\n",
      " [[ -1.49515518  -2.9262235 ]\n",
      "  [  0.33355236  -2.17251732]\n",
      "  [ -1.30006489  -4.14838882]\n",
      "  [  6.24622252   3.6636014 ]]]\n",
      "Câu 1:\n",
      "[[[-1.88985252  0.70743996]\n",
      "  [ 1.23063365 -1.90659692]\n",
      "  [ 2.72218856 -4.06102874]\n",
      "  [-0.88558092  1.01366204]]\n",
      "\n",
      " [[-1.02930346 -1.95655445]\n",
      "  [-0.76167573 -2.56694174]\n",
      "  [-3.81260838 -3.52118503]\n",
      "  [ 1.7186007   1.673128  ]]\n",
      "\n",
      " [[ 0.80894037 -0.73624972]\n",
      "  [ 0.5353908   2.69640032]\n",
      "  [-1.19762344  1.39722812]\n",
      "  [ 3.77534962  3.67034801]]]\n"
     ]
    }
   ],
   "source": [
    "# Có batch câu, mỗi câu có 5 từ, mỗi từ có h head\n",
    "# mỗi head có d_k chiều\n",
    "Q = Q.reshape(batch, seq_len, h, d_k)\n",
    "print(f\"Ma trận Q:\\n{Q.shape}\")\n",
    "print(f\"Có {batch} câu, mỗi câu có {seq_len} từ, mỗi từ có {h} head,\\nmỗi head có {d_k} chiều\")\n",
    "for i in range(len(Q)):\n",
    "    print(f\"Câu {i}:\\n{Q[i]}\")"
   ]
  },
  {
   "cell_type": "code",
   "execution_count": 72,
   "id": "39c4b404",
   "metadata": {},
   "outputs": [
    {
     "name": "stdout",
     "output_type": "stream",
     "text": [
      "Ma trận K:\n",
      "(2, 3, 2, 2)\n",
      "Có 2 câu, mỗi câu có 3 từ, mỗi từ có 2 group,\n",
      "mỗi group có 2 chiều\n",
      "Câu 0:\n",
      "[[[ 0.64682365 -0.2026224 ]\n",
      "  [-1.00948304 -2.68606074]]\n",
      "\n",
      " [[-0.1807266  -0.05627826]\n",
      "  [ 2.0051453  -7.94092059]]\n",
      "\n",
      " [[-1.32010081 -1.79878869]\n",
      "  [-9.24059834 -3.00829126]]]\n",
      "Câu 1:\n",
      "[[[ -3.89668036   5.58705609]\n",
      "  [-12.21677      6.84539295]]\n",
      "\n",
      " [[  0.60328553  -2.11988693]\n",
      "  [  0.36429373  -3.42756367]]\n",
      "\n",
      " [[ -0.19946673  -1.04639334]\n",
      "  [ -4.23584313  -2.78628345]]]\n"
     ]
    }
   ],
   "source": [
    "K = K.reshape(batch, seq_len, g, d_k)\n",
    "print(f\"Ma trận K:\\n{K.shape}\")\n",
    "print(f\"Có {batch} câu, mỗi câu có {seq_len} từ, mỗi từ có {g} group,\\nmỗi group có {d_k} chiều\")\n",
    "for i in range(len(K)):\n",
    "    print(f\"Câu {i}:\\n{K[i]}\")"
   ]
  },
  {
   "cell_type": "code",
   "execution_count": 73,
   "id": "6389e9fc",
   "metadata": {},
   "outputs": [
    {
     "name": "stdout",
     "output_type": "stream",
     "text": [
      "Ma trận V:\n",
      "(2, 3, 2, 2)\n",
      "Có 2 câu, mỗi câu có 3 từ, mỗi từ có 2 group,\n",
      "mỗi group có 2 chiều\n",
      "Câu 0:\n",
      "[[[-1.09137438  2.84674419]\n",
      "  [-1.50248026  0.63681109]]\n",
      "\n",
      " [[ 2.85843161 -1.01830528]\n",
      "  [-5.40661755  1.11201523]]\n",
      "\n",
      " [[-2.966936    2.34474049]\n",
      "  [ 0.93127504  3.09409543]]]\n",
      "Câu 1:\n",
      "[[[-3.29497606 -0.52110381]\n",
      "  [-2.23467439 -1.62271873]]\n",
      "\n",
      " [[-0.34249387  2.63144559]\n",
      "  [ 2.07418722  1.4532188 ]]\n",
      "\n",
      " [[ 0.72445245 -1.98977546]\n",
      "  [ 0.24054463  3.90579942]]]\n"
     ]
    }
   ],
   "source": [
    "V = V.reshape(batch, seq_len, g, d_k)\n",
    "print(f\"Ma trận V:\\n{V.shape}\")\n",
    "print(f\"Có {batch} câu, mỗi câu có {seq_len} từ, mỗi từ có {g} group,\\nmỗi group có {d_k} chiều\")\n",
    "for i in range(len(V)):\n",
    "    print(f\"Câu {i}:\\n{V[i]}\")"
   ]
  },
  {
   "cell_type": "code",
   "execution_count": 74,
   "id": "faa696ac",
   "metadata": {},
   "outputs": [
    {
     "name": "stdout",
     "output_type": "stream",
     "text": [
      "Ma trận Q:\n",
      "(2, 4, 3, 2)\n",
      "Có 2 mẫu, mỗi mẫu có 4 head, mỗi head có 3 hàng\n",
      "đại diện cho 3 từ của câu,\n",
      "mỗi hàng có 2 chiều\n",
      "Câu 0:\n",
      "[[[ -0.53710413  -0.44015092]\n",
      "  [  1.07613691   4.50065157]\n",
      "  [ -1.49515518  -2.9262235 ]]\n",
      "\n",
      " [[ -0.98804689  -0.45771538]\n",
      "  [ -1.60473761   3.97270105]\n",
      "  [  0.33355236  -2.17251732]]\n",
      "\n",
      " [[ -3.7499716   -1.68943888]\n",
      "  [-11.74065036   2.57401224]\n",
      "  [ -1.30006489  -4.14838882]]\n",
      "\n",
      " [[  2.23707953   2.93362574]\n",
      "  [  4.53750988   7.88176897]\n",
      "  [  6.24622252   3.6636014 ]]]\n",
      "Câu 1:\n",
      "[[[-1.88985252  0.70743996]\n",
      "  [-1.02930346 -1.95655445]\n",
      "  [ 0.80894037 -0.73624972]]\n",
      "\n",
      " [[ 1.23063365 -1.90659692]\n",
      "  [-0.76167573 -2.56694174]\n",
      "  [ 0.5353908   2.69640032]]\n",
      "\n",
      " [[ 2.72218856 -4.06102874]\n",
      "  [-3.81260838 -3.52118503]\n",
      "  [-1.19762344  1.39722812]]\n",
      "\n",
      " [[-0.88558092  1.01366204]\n",
      "  [ 1.7186007   1.673128  ]\n",
      "  [ 3.77534962  3.67034801]]]\n"
     ]
    }
   ],
   "source": [
    "Q = Q.transpose(0, 2, 1, 3)\n",
    "print(f\"Ma trận Q:\\n{Q.shape}\")\n",
    "print(f\"Có {batch} mẫu, mỗi mẫu có {h} head, mỗi head có {seq_len} hàng\\nđại diện cho 3 từ của câu,\\nmỗi hàng có {d_k} chiều\")\n",
    "for i in range(len(Q)):\n",
    "    print(f\"Câu {i}:\\n{Q[i]}\")"
   ]
  },
  {
   "cell_type": "code",
   "execution_count": 75,
   "id": "41a3d368",
   "metadata": {},
   "outputs": [
    {
     "name": "stdout",
     "output_type": "stream",
     "text": [
      "Ma trận K:\n",
      "(2, 2, 3, 2)\n",
      "Có 2 mẫu, mỗi mẫu có 2 group, mỗi group có 3 hàng\n",
      "đại diện cho 3 từ của câu,\n",
      "mỗi hàng có 2 chiều\n",
      "Câu 0:\n",
      "[[[ 0.64682365 -0.2026224 ]\n",
      "  [-0.1807266  -0.05627826]\n",
      "  [-1.32010081 -1.79878869]]\n",
      "\n",
      " [[-1.00948304 -2.68606074]\n",
      "  [ 2.0051453  -7.94092059]\n",
      "  [-9.24059834 -3.00829126]]]\n",
      "Câu 1:\n",
      "[[[ -3.89668036   5.58705609]\n",
      "  [  0.60328553  -2.11988693]\n",
      "  [ -0.19946673  -1.04639334]]\n",
      "\n",
      " [[-12.21677      6.84539295]\n",
      "  [  0.36429373  -3.42756367]\n",
      "  [ -4.23584313  -2.78628345]]]\n"
     ]
    }
   ],
   "source": [
    "K = K.transpose(0, 2, 1, 3)\n",
    "print(f\"Ma trận K:\\n{K.shape}\")\n",
    "print(f\"Có {batch} mẫu, mỗi mẫu có {g} group, mỗi group có {seq_len} hàng\\nđại diện cho 3 từ của câu,\\nmỗi hàng có {d_k} chiều\")\n",
    "for i in range(len(K)):\n",
    "    print(f\"Câu {i}:\\n{K[i]}\")"
   ]
  },
  {
   "cell_type": "code",
   "execution_count": 76,
   "id": "b01b54ce",
   "metadata": {},
   "outputs": [
    {
     "name": "stdout",
     "output_type": "stream",
     "text": [
      "Ma trận V:\n",
      "(2, 2, 3, 2)\n",
      "Có 2 mẫu, mỗi mẫu có 2 group, mỗi group có 3 hàng\n",
      "đại diện cho 3 từ của câu,\n",
      "mỗi hàng có 2 chiều\n",
      "Câu 0:\n",
      "[[[-1.09137438  2.84674419]\n",
      "  [ 2.85843161 -1.01830528]\n",
      "  [-2.966936    2.34474049]]\n",
      "\n",
      " [[-1.50248026  0.63681109]\n",
      "  [-5.40661755  1.11201523]\n",
      "  [ 0.93127504  3.09409543]]]\n",
      "Câu 1:\n",
      "[[[-3.29497606 -0.52110381]\n",
      "  [-0.34249387  2.63144559]\n",
      "  [ 0.72445245 -1.98977546]]\n",
      "\n",
      " [[-2.23467439 -1.62271873]\n",
      "  [ 2.07418722  1.4532188 ]\n",
      "  [ 0.24054463  3.90579942]]]\n"
     ]
    }
   ],
   "source": [
    "V = V.transpose(0, 2, 1, 3)\n",
    "print(f\"Ma trận V:\\n{V.shape}\")\n",
    "print(f\"Có {batch} mẫu, mỗi mẫu có {g} group, mỗi group có {seq_len} hàng\\nđại diện cho 3 từ của câu,\\nmỗi hàng có {d_k} chiều\")\n",
    "for i in range(len(V)):\n",
    "    print(f\"Câu {i}:\\n{V[i]}\")"
   ]
  },
  {
   "cell_type": "code",
   "execution_count": 82,
   "id": "fa5cc21b",
   "metadata": {},
   "outputs": [
    {
     "name": "stdout",
     "output_type": "stream",
     "text": [
      "Head 0 thuộc group: 0\n",
      "Ma trận Q của head 0 cho mẫu 1:\n",
      "[[-0.53710413 -0.44015092]\n",
      " [ 1.07613691  4.50065157]\n",
      " [-1.49515518 -2.9262235 ]]\n",
      "Ma trận Q của head 0 cho mẫu 2:\n",
      "[[-1.88985252  0.70743996]\n",
      " [-1.02930346 -1.95655445]\n",
      " [ 0.80894037 -0.73624972]]\n",
      "Ma trận K của head 0 cho mẫu 1:\n",
      "[[ 0.64682365 -0.2026224 ]\n",
      " [-0.1807266  -0.05627826]\n",
      " [-1.32010081 -1.79878869]]\n",
      "Ma trận K của head 0 cho mẫu 2:\n",
      "[[-3.89668036  5.58705609]\n",
      " [ 0.60328553 -2.11988693]\n",
      " [-0.19946673 -1.04639334]]\n",
      "Ma trận V của head 0 cho mẫu 1:\n",
      "[[-1.09137438  2.84674419]\n",
      " [ 2.85843161 -1.01830528]\n",
      " [-2.966936    2.34474049]]\n",
      "Ma trận V của head 0 cho mẫu 2:\n",
      "[[-3.29497606 -0.52110381]\n",
      " [-0.34249387  2.63144559]\n",
      " [ 0.72445245 -1.98977546]]\n"
     ]
    }
   ],
   "source": [
    "# Với head thứ nhất i = 0:\n",
    "i = 0\n",
    "group = i//(h//g)\n",
    "print(f\"Head {i} thuộc group: {group}\")\n",
    "Qi = Q[:, i, :, :]\n",
    "print(f\"Ma trận Q của head {i} cho mẫu 1:\\n{Qi[0]}\\nMa trận Q của head {i} cho mẫu 2:\\n{Qi[1]}\")\n",
    "Ki = K[:, group, :, :]\n",
    "print(f\"Ma trận K của head {i} cho mẫu 1:\\n{Ki[0]}\\nMa trận K của head {i} cho mẫu 2:\\n{Ki[1]}\")\n",
    "Vi = V[:, group, :, :]\n",
    "print(f\"Ma trận V của head {i} cho mẫu 1:\\n{Vi[0]}\\nMa trận V của head {i} cho mẫu 2:\\n{Vi[1]}\")"
   ]
  },
  {
   "cell_type": "code",
   "execution_count": 83,
   "id": "61332efd",
   "metadata": {},
   "outputs": [
    {
     "name": "stdout",
     "output_type": "stream",
     "text": [
      "Head 1 thuộc group: 0\n",
      "Ma trận Q của head 1 cho mẫu 1:\n",
      "[[-0.98804689 -0.45771538]\n",
      " [-1.60473761  3.97270105]\n",
      " [ 0.33355236 -2.17251732]]\n",
      "Ma trận Q của head 1 cho mẫu 2:\n",
      "[[ 1.23063365 -1.90659692]\n",
      " [-0.76167573 -2.56694174]\n",
      " [ 0.5353908   2.69640032]]\n",
      "Ma trận K của head 1 cho mẫu 1:\n",
      "[[ 0.64682365 -0.2026224 ]\n",
      " [-0.1807266  -0.05627826]\n",
      " [-1.32010081 -1.79878869]]\n",
      "Ma trận K của head 1 cho mẫu 2:\n",
      "[[-3.89668036  5.58705609]\n",
      " [ 0.60328553 -2.11988693]\n",
      " [-0.19946673 -1.04639334]]\n",
      "Ma trận V của head 1 cho mẫu 1:\n",
      "[[-1.09137438  2.84674419]\n",
      " [ 2.85843161 -1.01830528]\n",
      " [-2.966936    2.34474049]]\n",
      "Ma trận V của head 1 cho mẫu 2:\n",
      "[[-3.29497606 -0.52110381]\n",
      " [-0.34249387  2.63144559]\n",
      " [ 0.72445245 -1.98977546]]\n"
     ]
    }
   ],
   "source": [
    "# Với head thứ nhất i = 1:\n",
    "i = 1\n",
    "group = i//(h//g)\n",
    "print(f\"Head {i} thuộc group: {group}\")\n",
    "Qi = Q[:, i, :, :]\n",
    "print(f\"Ma trận Q của head {i} cho mẫu 1:\\n{Qi[0]}\\nMa trận Q của head {i} cho mẫu 2:\\n{Qi[1]}\")\n",
    "Ki = K[:, group, :, :]\n",
    "print(f\"Ma trận K của head {i} cho mẫu 1:\\n{Ki[0]}\\nMa trận K của head {i} cho mẫu 2:\\n{Ki[1]}\")\n",
    "Vi = V[:, group, :, :]\n",
    "print(f\"Ma trận V của head {i} cho mẫu 1:\\n{Vi[0]}\\nMa trận V của head {i} cho mẫu 2:\\n{Vi[1]}\")"
   ]
  },
  {
   "cell_type": "markdown",
   "id": "f03174fd",
   "metadata": {},
   "source": [
    "==> Head 0 và Head 1 có cùng ma trận Key và Value, khác ma trận Query"
   ]
  },
  {
   "cell_type": "code",
   "execution_count": null,
   "id": "5191b221",
   "metadata": {},
   "outputs": [],
   "source": [
    "# Bước cuối ta tính scores và trọng số weights như trong MHA"
   ]
  }
 ],
 "metadata": {
  "kernelspec": {
   "display_name": "duong_kernel_2",
   "language": "python",
   "name": "duong_kernel_2"
  },
  "language_info": {
   "codemirror_mode": {
    "name": "ipython",
    "version": 3
   },
   "file_extension": ".py",
   "mimetype": "text/x-python",
   "name": "python",
   "nbconvert_exporter": "python",
   "pygments_lexer": "ipython3",
   "version": "3.10.0"
  }
 },
 "nbformat": 4,
 "nbformat_minor": 5
}
