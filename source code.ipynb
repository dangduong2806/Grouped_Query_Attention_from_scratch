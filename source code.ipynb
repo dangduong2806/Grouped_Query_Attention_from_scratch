{
 "cells": [
  {
   "cell_type": "code",
   "execution_count": 9,
   "id": "e2edfd27",
   "metadata": {},
   "outputs": [
    {
     "name": "stdout",
     "output_type": "stream",
     "text": [
      "false\n"
     ]
    }
   ],
   "source": [
    "n = int(input())\n",
    "if n % 400 == 0:\n",
    "    print(\"yes\")\n",
    "elif n % 4 == 0 and n % 100 != 0:\n",
    "    print(\"yes\")\n",
    "else:\n",
    "    print(\"false\")"
   ]
  },
  {
   "cell_type": "code",
   "execution_count": null,
   "id": "5e7a9620",
   "metadata": {},
   "outputs": [],
   "source": [
    "import numpy as np\n",
    "class GQA:\n",
    "    def __init__(self, d_model, num_heads, num_groups, seed=0):\n",
    "        assert num_heads % num_groups == 0\n",
    "        self.d_model = d_model\n",
    "        self.h = num_heads\n",
    "        self.g = num_groups\n",
    "        self.d_k = d_model // num_heads\n",
    "        # Projections\n",
    "        self.W_Q = np.random.randn(d_model, self.h * self.d_k) / np.sqrt(d_model)\n",
    "        self.W_K = np.random.randn(d_model, self.g * self.d_k) / np.sqrt(d_model)\n",
    "        self.W_V = np.random.randn(d_model, self.g * self.d_k) / np.sqrt(d_model)\n",
    "\n",
    "        # output projection\n",
    "        self.W_O = np.random.randn(self.h * self.d_k, d_model) / np.sqrt(self.h * self.d_k)\n",
    "\n",
    "        # mapping head\n",
    "        self.group_size = self.h // self.g\n",
    "        self.head2group = (np.arange(self.h) // self.group_size).astype(int)\n",
    "    \n",
    "    def softmax(self, x, axis= -1):\n",
    "        # ổn định số học: trừ đi max để tránh overflow\n",
    "        x_max = np.max(x, axis=axis, keepdims=True)\n",
    "        e_x = np.exp(x - x_max)\n",
    "        return e_x / np.sum(e_x, axis=axis, keepdims=True)\n",
    "    def forward(self, x):\n",
    "        # x: (batch_size, seq_len, d_model)\n",
    "        batch, seq_len, _ = x.shape\n",
    "        # Linear projections\n",
    "        Q = x @ self.W_Q\n",
    "        K = x @ self.W_K\n",
    "        V = x @ self.W_V\n",
    "\n",
    "        # reshape thành (batch, h, seq_len, d_k) và \n",
    "        # (batch, g, seq_len, d_k)\n",
    "        Q = Q.reshape(batch, seq_len, self.h, self.d_k).transpose(0, 2, 1, 3)\n",
    "        K = K.reshape(batch, seq_len, self.g, self.d_k).transpose(0, 2, 1, 3)\n",
    "        V = V.reshape(batch, seq_len, self.g, self.d_k).transpose(0, 2, 1, 3)\n",
    "\n",
    "        # Attention cho từng head -> ánh xạ sang group\n",
    "        outputs = []\n",
    "        for i in range(self.h):\n",
    "            g = self.head2group[i]\n",
    "\n",
    "            Qi = Q[:, i, :, :] #(batch, seq_len, d_k)\n",
    "            "
   ]
  }
 ],
 "metadata": {
  "kernelspec": {
   "display_name": "duong_kernel_2",
   "language": "python",
   "name": "duong_kernel_2"
  },
  "language_info": {
   "codemirror_mode": {
    "name": "ipython",
    "version": 3
   },
   "file_extension": ".py",
   "mimetype": "text/x-python",
   "name": "python",
   "nbconvert_exporter": "python",
   "pygments_lexer": "ipython3",
   "version": "3.10.0"
  }
 },
 "nbformat": 4,
 "nbformat_minor": 5
}
